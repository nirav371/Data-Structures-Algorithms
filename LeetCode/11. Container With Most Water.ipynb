{
 "cells": [
  {
   "cell_type": "code",
   "execution_count": null,
   "metadata": {},
   "outputs": [],
   "source": [
    "class Solution:\n",
    "    def maxArea(self, height: List[int]) -> int:\n",
    "        left, right = 0 , len(height)-1\n",
    "        maxarea = 0\n",
    "        while left < right:\n",
    "            curr_area = (right-left) * min(height[left], height[right])\n",
    "            if maxarea < curr_area:\n",
    "                maxarea = curr_area\n",
    "            if height[left] < height[right]:\n",
    "                left += 1\n",
    "            else:\n",
    "                right -= 1\n",
    "        return maxarea"
   ]
  }
 ],
 "metadata": {
  "language_info": {
   "name": "python"
  }
 },
 "nbformat": 4,
 "nbformat_minor": 2
}
