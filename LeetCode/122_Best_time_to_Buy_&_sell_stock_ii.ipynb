{
 "cells": [
  {
   "cell_type": "code",
   "execution_count": null,
   "metadata": {},
   "outputs": [],
   "source": [
    "def maxProfit(self, prices: List[int]) -> int:\n",
    "        max_profit = 0\n",
    "        for i in range(0, len(prices)-1):\n",
    "            if prices[i] < prices[i+1]:\n",
    "                max_profit += prices[i+1]-prices[i]\n",
    "        return max_profit"
   ]
  }
 ],
 "metadata": {
  "language_info": {
   "name": "python"
  }
 },
 "nbformat": 4,
 "nbformat_minor": 2
}
