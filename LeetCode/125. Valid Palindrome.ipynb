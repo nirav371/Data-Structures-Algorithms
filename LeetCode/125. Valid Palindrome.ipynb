{
 "cells": [
  {
   "cell_type": "code",
   "execution_count": 19,
   "metadata": {},
   "outputs": [
    {
     "name": "stdout",
     "output_type": "stream",
     "text": [
      "['a', 'c']\n",
      "['a']\n"
     ]
    },
    {
     "data": {
      "text/plain": [
       "False"
      ]
     },
     "execution_count": 19,
     "metadata": {},
     "output_type": "execute_result"
    }
   ],
   "source": [
    "\n",
    "def isPalindrome(self, s: str) -> bool:\n",
    "    list1 = \"qwertyuiopasdfghjklzxcvbnm1234567890\"\n",
    "    list2 = []\n",
    "    s = s.lower()\n",
    "    for i in s:\n",
    "        if -1 != list1.find(i):\n",
    "            list2.append(i)\n",
    "    # length = len(list2)//2\n",
    "    return True if list2 == list2[::-1] else False"
   ]
  },
  {
   "cell_type": "code",
   "execution_count": null,
   "metadata": {},
   "outputs": [],
   "source": [
    "def isPalindrome(self, s: str) -> bool:\n",
    "    a=[]\n",
    "    s=s.lower()\n",
    "    for i in s:\n",
    "        if(i.isalnum()):\n",
    "            a.append(i)\n",
    "    #print(a)\n",
    "    if(a==a[::-1]):\n",
    "        return True\n",
    "    else:\n",
    "        return False"
   ]
  },
  {
   "cell_type": "code",
   "execution_count": null,
   "metadata": {},
   "outputs": [],
   "source": [
    "def isPalindrome(self, s: str) -> bool:\n",
    "        s1 = ''\n",
    "        for c in s.lower():\n",
    "            if c.isalpha() or c.isnumeric():\n",
    "                s1 += c\n",
    "        print(s1)\n",
    "\n",
    "        s = s1[::-1]\n",
    "        return True if s1==s else False"
   ]
  }
 ],
 "metadata": {
  "kernelspec": {
   "display_name": "Python 3",
   "language": "python",
   "name": "python3"
  },
  "language_info": {
   "codemirror_mode": {
    "name": "ipython",
    "version": 3
   },
   "file_extension": ".py",
   "mimetype": "text/x-python",
   "name": "python",
   "nbconvert_exporter": "python",
   "pygments_lexer": "ipython3",
   "version": "3.11.3"
  }
 },
 "nbformat": 4,
 "nbformat_minor": 2
}
