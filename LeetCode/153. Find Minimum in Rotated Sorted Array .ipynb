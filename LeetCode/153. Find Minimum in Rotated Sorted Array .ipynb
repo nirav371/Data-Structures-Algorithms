{
 "cells": [
  {
   "cell_type": "code",
   "execution_count": null,
   "metadata": {},
   "outputs": [],
   "source": [
    "class Solution:\n",
    "    def findMin(self, nums: List[int]) -> int:\n",
    "        # length_of_nums = \n",
    "        low = 0\n",
    "        high = len(nums) - 1\n",
    "        # mid_point = length_of_nums // 2\n",
    "        while True:\n",
    "            if nums[low] <= nums[high]:\n",
    "                return nums[low]\n",
    "            mid = (low + high)//2\n",
    "            \n",
    "            if nums[low] > nums[mid]:\n",
    "                high = mid\n",
    "            else:\n",
    "                low = mid + 1"
   ]
  }
 ],
 "metadata": {
  "language_info": {
   "name": "python"
  }
 },
 "nbformat": 4,
 "nbformat_minor": 2
}
