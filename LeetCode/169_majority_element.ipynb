{
 "cells": [
  {
   "cell_type": "code",
   "execution_count": 10,
   "metadata": {},
   "outputs": [],
   "source": [
    "def majorityElement( nums: list[int]) -> int:\n",
    "        for num in nums:\n",
    "            if nums.count(num) >= (len(nums)+1)//2:\n",
    "                return num"
   ]
  },
  {
   "cell_type": "code",
   "execution_count": 11,
   "metadata": {},
   "outputs": [
    {
     "name": "stdout",
     "output_type": "stream",
     "text": [
      "4\n"
     ]
    }
   ],
   "source": [
    "nums= [3,4,4]\n",
    "nums.sort()\n",
    "print(nums[len(nums)//2])"
   ]
  },
  {
   "cell_type": "code",
   "execution_count": null,
   "metadata": {},
   "outputs": [],
   "source": [
    "def majorityElement(self, nums: List[int]) -> int:\n",
    "        n = len(nums)\n",
    "        m = defaultdict(int)\n",
    "        \n",
    "        for num in nums:\n",
    "            m[num] += 1\n",
    "        \n",
    "        n = n // 2\n",
    "        for key, value in m.items():\n",
    "            if value > n:\n",
    "                return key\n",
    "        \n",
    "        return 0"
   ]
  },
  {
   "cell_type": "code",
   "execution_count": 12,
   "metadata": {},
   "outputs": [
    {
     "name": "stdout",
     "output_type": "stream",
     "text": [
      "4\n"
     ]
    }
   ],
   "source": [
    "# nums= [6,5,5]\n",
    "print(majorityElement(nums))"
   ]
  }
 ],
 "metadata": {
  "kernelspec": {
   "display_name": "Python 3",
   "language": "python",
   "name": "python3"
  },
  "language_info": {
   "codemirror_mode": {
    "name": "ipython",
    "version": 3
   },
   "file_extension": ".py",
   "mimetype": "text/x-python",
   "name": "python",
   "nbconvert_exporter": "python",
   "pygments_lexer": "ipython3",
   "version": "3.11.3"
  }
 },
 "nbformat": 4,
 "nbformat_minor": 2
}
