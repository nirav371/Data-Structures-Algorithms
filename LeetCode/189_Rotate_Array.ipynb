{
 "cells": [
  {
   "cell_type": "code",
   "execution_count": null,
   "metadata": {},
   "outputs": [],
   "source": [
    "# O(n^2)\n",
    "for i in range(k):\n",
    "    nums.insert(0,nums[-1])\n",
    "    nums.pop()"
   ]
  },
  {
   "cell_type": "code",
   "execution_count": null,
   "metadata": {},
   "outputs": [],
   "source": [
    "# O(n)\n",
    "if k>= len(nums):\n",
    "    k = k%len(nums)\n",
    "if len(nums)==1 or k ==0:\n",
    "    return nums\n",
    "nums[:] = nums[len(nums)-k:] + nums[:len(nums)-k]"
   ]
  }
 ],
 "metadata": {
  "language_info": {
   "name": "python"
  }
 },
 "nbformat": 4,
 "nbformat_minor": 2
}
