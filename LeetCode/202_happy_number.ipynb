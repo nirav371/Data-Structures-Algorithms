{
 "cells": [
  {
   "cell_type": "code",
   "execution_count": null,
   "metadata": {},
   "outputs": [],
   "source": [
    "class Solution:\n",
    "    def isHappy(self, n: int) -> bool:\n",
    "        visited = set()\n",
    "        while n != 1 and n not in visited:\n",
    "            visited.add(n)\n",
    "            sum = 0\n",
    "            for i in str(n):\n",
    "                sum += (int(i))**2\n",
    "            n = sum\n",
    "        return n == 1\n",
    "            "
   ]
  }
 ],
 "metadata": {
  "language_info": {
   "name": "python"
  }
 },
 "nbformat": 4,
 "nbformat_minor": 2
}
