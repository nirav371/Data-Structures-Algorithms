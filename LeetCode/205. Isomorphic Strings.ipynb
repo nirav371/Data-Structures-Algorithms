{
 "cells": [
  {
   "cell_type": "code",
   "execution_count": null,
   "metadata": {},
   "outputs": [],
   "source": [
    "class Solution:\n",
    "    def isIsomorphic(self, s: str, t: str) -> bool:\n",
    "        dic1,dic2={},{}\n",
    "        for s1,t1 in zip(s,t):\n",
    "            if (s1 in dic1 and dic1[s1]!=t1) or ( t1 in dic2 and dic2[t1]!=s1):\n",
    "                return False\n",
    "            dic1[s1]=t1\n",
    "            dic2[t1]=s1\n",
    "        return True\n",
    "        "
   ]
  }
 ],
 "metadata": {
  "language_info": {
   "name": "python"
  }
 },
 "nbformat": 4,
 "nbformat_minor": 2
}
