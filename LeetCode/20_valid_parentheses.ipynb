{
 "cells": [
  {
   "cell_type": "code",
   "execution_count": null,
   "metadata": {},
   "outputs": [],
   "source": [
    "class Solution:\n",
    "    def isValid(self, s: str) -> bool:\n",
    "        open_paranthis = ['(','[','{']\n",
    "        close_paranthis = [')',']','}']\n",
    "        lis = []\n",
    "        for i in s:\n",
    "            if i in open_paranthis:\n",
    "                lis.append(i)\n",
    "            if i in close_paranthis:\n",
    "                if lis == []:\n",
    "                    return False\n",
    "                elif close_paranthis.index(i) == open_paranthis.index(lis[-1]):\n",
    "                    lis.pop()\n",
    "                else:\n",
    "                    return False\n",
    "        return True if lis == [] else False"
   ]
  },
  {
   "cell_type": "code",
   "execution_count": null,
   "metadata": {},
   "outputs": [],
   "source": [
    "class Solution(object):\n",
    "    def isValid(self, s):\n",
    "        stack = [] # only use append and pop\n",
    "        pairs = {\n",
    "            '(': ')',\n",
    "            '{': '}',\n",
    "            '[': ']'\n",
    "        }\n",
    "        for bracket in s:\n",
    "            if bracket in pairs:\n",
    "                stack.append(bracket)\n",
    "            elif len(stack) == 0 or bracket != pairs[stack.pop()]:\n",
    "                return False\n",
    "\n",
    "        return len(stack) == 0"
   ]
  }
 ],
 "metadata": {
  "language_info": {
   "name": "python"
  }
 },
 "nbformat": 4,
 "nbformat_minor": 2
}
