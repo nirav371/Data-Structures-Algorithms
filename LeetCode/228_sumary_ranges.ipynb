{
 "cells": [
  {
   "cell_type": "code",
   "execution_count": 5,
   "metadata": {},
   "outputs": [
    {
     "name": "stdout",
     "output_type": "stream",
     "text": [
      "[0, 1] nj\n",
      "1\n",
      "[0, 1, 2] nj\n",
      "2\n",
      "[0, 1, 2] k\n",
      "[4, 5] nj\n",
      "5\n",
      "[4, 5] k\n",
      "['0->2', '4->5', '7']\n"
     ]
    }
   ],
   "source": [
    "def check_for_same_number(num1,num2):\n",
    "    if num1 == num2:\n",
    "        return f\"{num1}\"\n",
    "    return f'{num1}->{num2}'\n",
    "nums = [0,1,2,4,5,7]\n",
    "list2 = [nums[0]]\n",
    "list1 = []\n",
    "for i in range(1,len(nums)):\n",
    "    # if list2 == []:\n",
    "    #     list2.append(nums[i])\n",
    "    #     print(f\"{list2} nk\")\n",
    "    if nums[i] - nums[i-1] == 1:\n",
    "        list2.append(nums[i])\n",
    "        print(f\"{list2} nj\")\n",
    "        print(nums[i])\n",
    "    else:\n",
    "        print(f\"{list2} k\")\n",
    "        list1.append(check_for_same_number(list2[0],list2[-1]))\n",
    "        list2 = [nums[i]]\n",
    "list1.append(check_for_same_number(list2[0],list2[-1]))\n",
    "print(list1)"
   ]
  },
  {
   "cell_type": "code",
   "execution_count": null,
   "metadata": {},
   "outputs": [],
   "source": [
    "class Solution:\n",
    "    def summaryRanges(self, nums: List[int]) -> List[str]:\n",
    "        ranges = [] # [start, end] or [x, y]\n",
    "        for n in nums:\n",
    "            if ranges and ranges[-1][1] == n-1:\n",
    "                ranges[-1][1] = n\n",
    "            else:\n",
    "                ranges.append([n, n])\n",
    "\n",
    "        return [f'{x}->{y}' if x != y else f'{x}' for x, y in ranges]"
   ]
  }
 ],
 "metadata": {
  "kernelspec": {
   "display_name": "Python 3",
   "language": "python",
   "name": "python3"
  },
  "language_info": {
   "codemirror_mode": {
    "name": "ipython",
    "version": 3
   },
   "file_extension": ".py",
   "mimetype": "text/x-python",
   "name": "python",
   "nbconvert_exporter": "python",
   "pygments_lexer": "ipython3",
   "version": "3.11.3"
  }
 },
 "nbformat": 4,
 "nbformat_minor": 2
}
