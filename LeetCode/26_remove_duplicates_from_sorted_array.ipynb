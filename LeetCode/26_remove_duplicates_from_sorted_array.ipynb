{
 "cells": [
  {
   "cell_type": "code",
   "execution_count": 1,
   "metadata": {},
   "outputs": [
    {
     "name": "stdout",
     "output_type": "stream",
     "text": [
      "5\n"
     ]
    }
   ],
   "source": [
    "def remove_duplicate_element(nums):\n",
    "    nums = list(set(nums))\n",
    "    return len(nums)\n",
    "print(remove_duplicate_element([0,0,1,1,1,2,2,3,3,4]))"
   ]
  },
  {
   "cell_type": "code",
   "execution_count": 24,
   "metadata": {},
   "outputs": [
    {
     "ename": "IndexError",
     "evalue": "list index out of range",
     "output_type": "error",
     "traceback": [
      "\u001b[1;31m---------------------------------------------------------------------------\u001b[0m",
      "\u001b[1;31mIndexError\u001b[0m                                Traceback (most recent call last)",
      "\u001b[1;32mc:\\Users\\Nirav\\Desktop\\coding\\data structure & algorithm\\LeetCode\\26_remove_duplicates_from_sorted_array.ipynb Cell 2\u001b[0m line \u001b[0;36m1\n\u001b[0;32m     <a href='vscode-notebook-cell:/c%3A/Users/Nirav/Desktop/coding/data%20structure%20%26%20algorithm/LeetCode/26_remove_duplicates_from_sorted_array.ipynb#W1sZmlsZQ%3D%3D?line=12'>13</a>\u001b[0m                 \u001b[39mbreak\u001b[39;00m\n\u001b[0;32m     <a href='vscode-notebook-cell:/c%3A/Users/Nirav/Desktop/coding/data%20structure%20%26%20algorithm/LeetCode/26_remove_duplicates_from_sorted_array.ipynb#W1sZmlsZQ%3D%3D?line=13'>14</a>\u001b[0m     \u001b[39mreturn\u001b[39;00m(nums)\n\u001b[1;32m---> <a href='vscode-notebook-cell:/c%3A/Users/Nirav/Desktop/coding/data%20structure%20%26%20algorithm/LeetCode/26_remove_duplicates_from_sorted_array.ipynb#W1sZmlsZQ%3D%3D?line=15'>16</a>\u001b[0m \u001b[39mprint\u001b[39m(remove_duplicate_element2([\u001b[39m0\u001b[39;49m,\u001b[39m0\u001b[39;49m,\u001b[39m0\u001b[39;49m,\u001b[39m0\u001b[39;49m,\u001b[39m0\u001b[39;49m,\u001b[39m0\u001b[39;49m]))\n\u001b[0;32m     <a href='vscode-notebook-cell:/c%3A/Users/Nirav/Desktop/coding/data%20structure%20%26%20algorithm/LeetCode/26_remove_duplicates_from_sorted_array.ipynb#W1sZmlsZQ%3D%3D?line=16'>17</a>\u001b[0m \u001b[39mprint\u001b[39m(remove_duplicate_element2([\u001b[39m1\u001b[39m]))\n\u001b[0;32m     <a href='vscode-notebook-cell:/c%3A/Users/Nirav/Desktop/coding/data%20structure%20%26%20algorithm/LeetCode/26_remove_duplicates_from_sorted_array.ipynb#W1sZmlsZQ%3D%3D?line=17'>18</a>\u001b[0m \u001b[39mprint\u001b[39m(remove_duplicate_element2([\u001b[39m1\u001b[39m,\u001b[39m1\u001b[39m]))\n",
      "\u001b[1;32mc:\\Users\\Nirav\\Desktop\\coding\\data structure & algorithm\\LeetCode\\26_remove_duplicates_from_sorted_array.ipynb Cell 2\u001b[0m line \u001b[0;36m6\n\u001b[0;32m      <a href='vscode-notebook-cell:/c%3A/Users/Nirav/Desktop/coding/data%20structure%20%26%20algorithm/LeetCode/26_remove_duplicates_from_sorted_array.ipynb#W1sZmlsZQ%3D%3D?line=3'>4</a>\u001b[0m     \u001b[39mreturn\u001b[39;00m nums\n\u001b[0;32m      <a href='vscode-notebook-cell:/c%3A/Users/Nirav/Desktop/coding/data%20structure%20%26%20algorithm/LeetCode/26_remove_duplicates_from_sorted_array.ipynb#W1sZmlsZQ%3D%3D?line=4'>5</a>\u001b[0m \u001b[39mwhile\u001b[39;00m \u001b[39mTrue\u001b[39;00m:\n\u001b[1;32m----> <a href='vscode-notebook-cell:/c%3A/Users/Nirav/Desktop/coding/data%20structure%20%26%20algorithm/LeetCode/26_remove_duplicates_from_sorted_array.ipynb#W1sZmlsZQ%3D%3D?line=5'>6</a>\u001b[0m     \u001b[39mif\u001b[39;00m nums[i] \u001b[39m==\u001b[39m nums[i\u001b[39m+\u001b[39;49m\u001b[39m1\u001b[39;49m]:\n\u001b[0;32m      <a href='vscode-notebook-cell:/c%3A/Users/Nirav/Desktop/coding/data%20structure%20%26%20algorithm/LeetCode/26_remove_duplicates_from_sorted_array.ipynb#W1sZmlsZQ%3D%3D?line=6'>7</a>\u001b[0m         nums\u001b[39m.\u001b[39mremove(nums[i\u001b[39m+\u001b[39m\u001b[39m1\u001b[39m])\n\u001b[0;32m      <a href='vscode-notebook-cell:/c%3A/Users/Nirav/Desktop/coding/data%20structure%20%26%20algorithm/LeetCode/26_remove_duplicates_from_sorted_array.ipynb#W1sZmlsZQ%3D%3D?line=7'>8</a>\u001b[0m     \u001b[39melse\u001b[39;00m:\n",
      "\u001b[1;31mIndexError\u001b[0m: list index out of range"
     ]
    }
   ],
   "source": [
    "def remove_duplicate_element2(nums):\n",
    "    i = 0\n",
    "    if len(nums) <= 1:\n",
    "        return nums\n",
    "    while True:\n",
    "        if nums[i] == nums[i+1]:\n",
    "            nums.remove(nums[i+1])\n",
    "        else:\n",
    "            if len(nums) >= i + 2:\n",
    "                i += 1\n",
    "                print(nums)\n",
    "            else:\n",
    "                break\n",
    "    return(nums)\n",
    "\n",
    "print(remove_duplicate_element2([0,0,0,0,0,0]))\n",
    "print(remove_duplicate_element2([1]))\n",
    "# print(remove_duplicate_element2([1,1]))"
   ]
  },
  {
   "cell_type": "code",
   "execution_count": null,
   "metadata": {},
   "outputs": [],
   "source": [
    "nums[:] = sorted(set(nums))\n",
    "print(len(nums))"
   ]
  },
  {
   "cell_type": "code",
   "execution_count": 4,
   "metadata": {},
   "outputs": [
    {
     "name": "stdout",
     "output_type": "stream",
     "text": [
      "banana\n"
     ]
    }
   ],
   "source": [
    "words = [\"apple\", \"banana\", \"cherry\", \"date\", \"grape\"]\n",
    "max_length_word = max(words, key=lambda x: len(x))\n",
    "print(max_length_word)  # Output: 'banana'\n"
   ]
  },
  {
   "cell_type": "code",
   "execution_count": 11,
   "metadata": {},
   "outputs": [
    {
     "name": "stdout",
     "output_type": "stream",
     "text": [
      "[True, False, True, True, True]\n"
     ]
    }
   ],
   "source": []
  }
 ],
 "metadata": {
  "kernelspec": {
   "display_name": "Python 3",
   "language": "python",
   "name": "python3"
  },
  "language_info": {
   "codemirror_mode": {
    "name": "ipython",
    "version": 3
   },
   "file_extension": ".py",
   "mimetype": "text/x-python",
   "name": "python",
   "nbconvert_exporter": "python",
   "pygments_lexer": "ipython3",
   "version": "3.11.3"
  },
  "orig_nbformat": 4
 },
 "nbformat": 4,
 "nbformat_minor": 2
}
