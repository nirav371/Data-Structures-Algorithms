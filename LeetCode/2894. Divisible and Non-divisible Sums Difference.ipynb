{
 "cells": [
  {
   "cell_type": "code",
   "execution_count": null,
   "metadata": {},
   "outputs": [],
   "source": [
    "def differenceOfSums(self, n: int, m: int) -> int:\n",
    "        list1, list2 = [], []\n",
    "        for i in range(1,n+1):\n",
    "            if i%m == 0:\n",
    "                list1.append(i)\n",
    "            else:\n",
    "                list2.append(i)\n",
    "        return sum(list2)-sum(list1)"
   ]
  }
 ],
 "metadata": {
  "language_info": {
   "name": "python"
  }
 },
 "nbformat": 4,
 "nbformat_minor": 2
}
