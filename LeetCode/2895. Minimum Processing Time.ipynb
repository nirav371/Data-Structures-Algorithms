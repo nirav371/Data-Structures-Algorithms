{
 "cells": [
  {
   "cell_type": "code",
   "execution_count": null,
   "metadata": {},
   "outputs": [],
   "source": [
    "def minProcessingTime(self, processorTime: List[int], tasks: List[int]) -> int:\n",
    "        tasks[:] = sorted(tasks)\n",
    "        processorTime[:] = sorted(processorTime)\n",
    "        length_of_tasks = len(tasks)\n",
    "        list1 = []\n",
    "        for i in range(len(processorTime)):\n",
    "            avilable_processor = processorTime[i]\n",
    "            max_time_task = tasks[-i*4 +length_of_tasks - 1]\n",
    "            list1.append(avilable_processor+max_time_task)\n",
    "       \n",
    "        return max(list1)"
   ]
  }
 ],
 "metadata": {
  "language_info": {
   "name": "python"
  }
 },
 "nbformat": 4,
 "nbformat_minor": 2
}
