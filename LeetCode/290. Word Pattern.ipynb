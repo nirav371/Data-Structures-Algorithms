{
 "cells": [
  {
   "cell_type": "code",
   "execution_count": 5,
   "metadata": {},
   "outputs": [
    {
     "ename": "NameError",
     "evalue": "name 'a' is not defined",
     "output_type": "error",
     "traceback": [
      "\u001b[1;31m---------------------------------------------------------------------------\u001b[0m",
      "\u001b[1;31mNameError\u001b[0m                                 Traceback (most recent call last)",
      "\u001b[1;32mc:\\Users\\Nirav\\Desktop\\coding\\data structure & algorithm\\LeetCode\\290. Word Pattern.ipynb Cell 1\u001b[0m line \u001b[0;36m8\n\u001b[0;32m      <a href='vscode-notebook-cell:/c%3A/Users/Nirav/Desktop/coding/data%20structure%20%26%20algorithm/LeetCode/290.%20Word%20Pattern.ipynb#W0sZmlsZQ%3D%3D?line=5'>6</a>\u001b[0m \u001b[39mif\u001b[39;00m \u001b[39mlen\u001b[39m(pattern) \u001b[39m!=\u001b[39m \u001b[39mlen\u001b[39m(s):\n\u001b[0;32m      <a href='vscode-notebook-cell:/c%3A/Users/Nirav/Desktop/coding/data%20structure%20%26%20algorithm/LeetCode/290.%20Word%20Pattern.ipynb#W0sZmlsZQ%3D%3D?line=6'>7</a>\u001b[0m     \u001b[39mprint\u001b[39m(\u001b[39mFalse\u001b[39;00m)\n\u001b[1;32m----> <a href='vscode-notebook-cell:/c%3A/Users/Nirav/Desktop/coding/data%20structure%20%26%20algorithm/LeetCode/290.%20Word%20Pattern.ipynb#W0sZmlsZQ%3D%3D?line=7'>8</a>\u001b[0m \u001b[39mif\u001b[39;00m dic[a] \u001b[39mnot\u001b[39;00m \u001b[39min\u001b[39;00m dic:\n\u001b[0;32m      <a href='vscode-notebook-cell:/c%3A/Users/Nirav/Desktop/coding/data%20structure%20%26%20algorithm/LeetCode/290.%20Word%20Pattern.ipynb#W0sZmlsZQ%3D%3D?line=8'>9</a>\u001b[0m     dic[\u001b[39m'\u001b[39m\u001b[39ma\u001b[39m\u001b[39m'\u001b[39m] \u001b[39m=\u001b[39m s[\u001b[39m0\u001b[39m]\n\u001b[0;32m     <a href='vscode-notebook-cell:/c%3A/Users/Nirav/Desktop/coding/data%20structure%20%26%20algorithm/LeetCode/290.%20Word%20Pattern.ipynb#W0sZmlsZQ%3D%3D?line=9'>10</a>\u001b[0m \u001b[39m# for i in range(len(pattern)):\u001b[39;00m\n\u001b[0;32m     <a href='vscode-notebook-cell:/c%3A/Users/Nirav/Desktop/coding/data%20structure%20%26%20algorithm/LeetCode/290.%20Word%20Pattern.ipynb#W0sZmlsZQ%3D%3D?line=10'>11</a>\u001b[0m \u001b[39m#     if dic[pattern[i]] not in dic:\u001b[39;00m\n\u001b[0;32m     <a href='vscode-notebook-cell:/c%3A/Users/Nirav/Desktop/coding/data%20structure%20%26%20algorithm/LeetCode/290.%20Word%20Pattern.ipynb#W0sZmlsZQ%3D%3D?line=11'>12</a>\u001b[0m \u001b[39m#         dic[pattern[i]] = s[i]\u001b[39;00m\n\u001b[0;32m     <a href='vscode-notebook-cell:/c%3A/Users/Nirav/Desktop/coding/data%20structure%20%26%20algorithm/LeetCode/290.%20Word%20Pattern.ipynb#W0sZmlsZQ%3D%3D?line=12'>13</a>\u001b[0m \u001b[39m#     elif dic[pattern[i]] != s[i]:\u001b[39;00m\n\u001b[0;32m     <a href='vscode-notebook-cell:/c%3A/Users/Nirav/Desktop/coding/data%20structure%20%26%20algorithm/LeetCode/290.%20Word%20Pattern.ipynb#W0sZmlsZQ%3D%3D?line=13'>14</a>\u001b[0m \u001b[39m#         print(False)\u001b[39;00m\n\u001b[0;32m     <a href='vscode-notebook-cell:/c%3A/Users/Nirav/Desktop/coding/data%20structure%20%26%20algorithm/LeetCode/290.%20Word%20Pattern.ipynb#W0sZmlsZQ%3D%3D?line=14'>15</a>\u001b[0m \u001b[39m# print(True)\u001b[39;00m\n",
      "\u001b[1;31mNameError\u001b[0m: name 'a' is not defined"
     ]
    }
   ],
   "source": [
    "pattern =\"abba\"\n",
    "s =\"dog cat cat dog\"\n",
    "\n",
    "dic = {}\n",
    "s = s.split(\" \")\n",
    "if len(pattern) != len(s):\n",
    "    print(False)\n",
    "if dic['a'] not in dic:\n",
    "    dic['a'] = s[0]\n",
    "# for i in range(len(pattern)):\n",
    "#     if dic[pattern[i]] not in dic:\n",
    "#         dic[pattern[i]] = s[i]\n",
    "#     elif dic[pattern[i]] != s[i]:\n",
    "#         print(False)\n",
    "# print(True)"
   ]
  }
 ],
 "metadata": {
  "language_info": {
   "name": "python"
  }
 },
 "nbformat": 4,
 "nbformat_minor": 2
}
