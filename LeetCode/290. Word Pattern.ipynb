{
 "cells": [
  {
   "cell_type": "code",
   "execution_count": 1,
   "metadata": {},
   "outputs": [],
   "source": [
    "pattern =\"abba\"\n",
    "s =\"dog cat cat dog\"\n",
    "\n",
    "dic = {}\n",
    "s = s.split(\" \")\n",
    "if len(pattern) != len(s):\n",
    "    print(False)\n",
    "if 'a' not in dic:\n",
    "    dic['a'] = s[0]\n",
    "# for i in range(len(pattern)):\n",
    "#     if dic[pattern[i]] not in dic:\n",
    "#         dic[pattern[i]] = s[i]\n",
    "#     elif dic[pattern[i]] != s[i]:\n",
    "#         print(False)\n",
    "# print(True)"
   ]
  },
  {
   "cell_type": "code",
   "execution_count": null,
   "metadata": {},
   "outputs": [],
   "source": [
    "class Solution:\n",
    "    def wordPattern(self, pattern: str, s: str) -> bool:\n",
    "        dic = {}\n",
    "        dic2 = {}\n",
    "        s = s.split(\" \")\n",
    "        if len(pattern) != len(s):\n",
    "            return False\n",
    "        for i in range(len(pattern)):\n",
    "            if pattern[i] not in dic:\n",
    "                dic[pattern[i]] = s[i]\n",
    "            elif dic[pattern[i]] != s[i]:\n",
    "                return False\n",
    "            if s[i] not in dic2:\n",
    "                dic2[s[i]] = pattern[i]\n",
    "            elif dic2[s[i]] != pattern[i]:\n",
    "                return False\n",
    "        return True"
   ]
  },
  {
   "cell_type": "markdown",
   "metadata": {},
   "source": [
    "upgraded version of my code i use two dictionary \n",
    "in below solution he use only one dictionary and use set function"
   ]
  },
  {
   "cell_type": "code",
   "execution_count": null,
   "metadata": {},
   "outputs": [],
   "source": [
    "class Solution:\n",
    "    def wordPattern(self, pattern: str, s: str) -> bool:\n",
    "        dic = {}\n",
    "        s = s.split()\n",
    "        if len(set(pattern)) != len(set(s)):\n",
    "            return False\n",
    "        if len(pattern) != len(s):\n",
    "            return False\n",
    "        for i in range(len(pattern)):\n",
    "            if pattern[i] not in dic:\n",
    "                dic[pattern[i]] = s[i]\n",
    "            elif dic[pattern[i]] == s[i]:\n",
    "                continue\n",
    "            else:\n",
    "                return False\n",
    "        return True\n",
    "\n",
    "\n",
    "        \n",
    "\n",
    "        "
   ]
  }
 ],
 "metadata": {
  "kernelspec": {
   "display_name": "Python 3",
   "language": "python",
   "name": "python3"
  },
  "language_info": {
   "codemirror_mode": {
    "name": "ipython",
    "version": 3
   },
   "file_extension": ".py",
   "mimetype": "text/x-python",
   "name": "python",
   "nbconvert_exporter": "python",
   "pygments_lexer": "ipython3",
   "version": "3.11.3"
  }
 },
 "nbformat": 4,
 "nbformat_minor": 2
}
