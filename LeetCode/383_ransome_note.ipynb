{
 "cells": [
  {
   "cell_type": "code",
   "execution_count": 2,
   "metadata": {},
   "outputs": [
    {
     "name": "stdout",
     "output_type": "stream",
     "text": [
      "True\n"
     ]
    }
   ],
   "source": [
    "a = 'aab'\n",
    "b = ['aab']\n",
    "if a in b:\n",
    "    print(True)"
   ]
  },
  {
   "cell_type": "code",
   "execution_count": 16,
   "metadata": {},
   "outputs": [
    {
     "name": "stdout",
     "output_type": "stream",
     "text": [
      "['a', 'a', 'b']\n",
      "False\n",
      "False\n",
      "True\n"
     ]
    }
   ],
   "source": [
    "ransomNote=\"aa\"\n",
    "magazine= \"aab\"\n",
    "magazine = [*magazine]\n",
    "print(magazine)\n",
    "for i in ransomNote:\n",
    "    if i in magazine1:\n",
    "        magazine1.remove(i)\n",
    "        print(magazine1)\n",
    "    else:\n",
    "        print (False)\n",
    "print (True)\n"
   ]
  },
  {
   "cell_type": "code",
   "execution_count": null,
   "metadata": {},
   "outputs": [],
   "source": [
    "class Solution:\n",
    "    def canConstruct(self, ransomNote: str, magazine: str) -> bool:\n",
    "        chars = {}\n",
    "        for i in magazine:\n",
    "            if i not in chars:\n",
    "                chars[i] = 1\n",
    "            else:\n",
    "                chars[i] += 1\n",
    "        for i in ransomNote:\n",
    "            if i in chars and chars[i] > 0:\n",
    "                chars[i] -= 1\n",
    "            else:\n",
    "                return False\n",
    "        return True\n"
   ]
  }
 ],
 "metadata": {
  "kernelspec": {
   "display_name": "Python 3",
   "language": "python",
   "name": "python3"
  },
  "language_info": {
   "codemirror_mode": {
    "name": "ipython",
    "version": 3
   },
   "file_extension": ".py",
   "mimetype": "text/x-python",
   "name": "python",
   "nbconvert_exporter": "python",
   "pygments_lexer": "ipython3",
   "version": "3.11.3"
  }
 },
 "nbformat": 4,
 "nbformat_minor": 2
}
