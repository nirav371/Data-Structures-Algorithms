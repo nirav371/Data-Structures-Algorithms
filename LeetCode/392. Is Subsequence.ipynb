{
 "cells": [
  {
   "cell_type": "code",
   "execution_count": null,
   "metadata": {},
   "outputs": [],
   "source": [
    "def isSubsequence(self, s: str, t: str) -> bool:\n",
    "    j = 0\n",
    "    if s == \"\":\n",
    "        return True\n",
    "    for i in t:\n",
    "        if s[j] == i:\n",
    "            j += 1\n",
    "        if j >= len(s):\n",
    "            return True\n",
    "    return False"
   ]
  }
 ],
 "metadata": {
  "language_info": {
   "name": "python"
  }
 },
 "nbformat": 4,
 "nbformat_minor": 2
}
