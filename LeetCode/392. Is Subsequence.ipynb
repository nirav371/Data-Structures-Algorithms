{
 "cells": [
  {
   "cell_type": "code",
   "execution_count": null,
   "metadata": {},
   "outputs": [],
   "source": [
    "def isSubsequence(self, s: str, t: str) -> bool:\n",
    "    j = 0\n",
    "    if s == \"\":\n",
    "        return True\n",
    "    for i in t:\n",
    "        if s[j] == i:\n",
    "            j += 1\n",
    "        if j >= len(s):\n",
    "            return True\n",
    "    return False"
   ]
  },
  {
   "cell_type": "code",
   "execution_count": 7,
   "metadata": {},
   "outputs": [
    {
     "name": "stdout",
     "output_type": "stream",
     "text": [
      "[[15, 13, 2, 5], [9, 3, 4, 1], [1, 4, 4, 9], [5, 9, 1, 5]]\n",
      "[[15, 13, 2, 5], [9, 3, 4, 1], [1, 4, 4, 9], [5, 9, 1, 5]]\n"
     ]
    }
   ],
   "source": [
    "matrix = [[5,1,9,11],[2,4,8,10],[13,3,6,7],[15,14,12,16]]\n",
    "n = len(matrix)\n",
    "matrix1 = matrix.copy()\n",
    "for i in range(n):\n",
    "    for j in range(n):\n",
    "        matrix[j][n-i-1] = matrix1[i][j]\n",
    "\n",
    "print(matrix)\n",
    "print(matrix1)\n",
    "# [[15,13,2,5],[14,3,4,1],[12,6,8,9],[16,7,10,11]]"
   ]
  },
  {
   "cell_type": "code",
   "execution_count": 10,
   "metadata": {},
   "outputs": [
    {
     "name": "stdout",
     "output_type": "stream",
     "text": [
      "[[15, 13, 2, 5], [14, 3, 4, 1], [12, 6, 8, 9], [16, 7, 10, 11]]\n"
     ]
    }
   ],
   "source": [
    "matrix = [[5,1,9,11],[2,4,8,10],[13,3,6,7],[15,14,12,16]]\n",
    "n = len(matrix)\n",
    "matrix1 = []\n",
    "for i in range(n):\n",
    "    matrix1.append(matrix[i].copy())\n",
    "for i in range(n):\n",
    "    for j in range(n):\n",
    "        matrix[j][n-i-1] = matrix1[i][j]\n",
    "print(matrix)"
   ]
  }
 ],
 "metadata": {
  "kernelspec": {
   "display_name": "Python 3",
   "language": "python",
   "name": "python3"
  },
  "language_info": {
   "codemirror_mode": {
    "name": "ipython",
    "version": 3
   },
   "file_extension": ".py",
   "mimetype": "text/x-python",
   "name": "python",
   "nbconvert_exporter": "python",
   "pygments_lexer": "ipython3",
   "version": "3.11.3"
  }
 },
 "nbformat": 4,
 "nbformat_minor": 2
}
