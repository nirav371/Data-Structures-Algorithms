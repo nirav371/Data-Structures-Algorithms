{
 "cells": [
  {
   "cell_type": "code",
   "execution_count": 12,
   "metadata": {},
   "outputs": [
    {
     "ename": "AttributeError",
     "evalue": "'str' object has no attribute 'sort'",
     "output_type": "error",
     "traceback": [
      "\u001b[1;31m---------------------------------------------------------------------------\u001b[0m",
      "\u001b[1;31mAttributeError\u001b[0m                            Traceback (most recent call last)",
      "\u001b[1;32mc:\\Users\\Nirav\\Desktop\\coding\\data structure & algorithm\\LeetCode\\49_group_anagram.ipynb Cell 1\u001b[0m line \u001b[0;36m3\n\u001b[0;32m      <a href='vscode-notebook-cell:/c%3A/Users/Nirav/Desktop/coding/data%20structure%20%26%20algorithm/LeetCode/49_group_anagram.ipynb#W0sZmlsZQ%3D%3D?line=0'>1</a>\u001b[0m i \u001b[39m=\u001b[39m [\u001b[39m1\u001b[39m,\u001b[39m2\u001b[39m,\u001b[39m7\u001b[39m,\u001b[39m3\u001b[39m]\n\u001b[0;32m      <a href='vscode-notebook-cell:/c%3A/Users/Nirav/Desktop/coding/data%20structure%20%26%20algorithm/LeetCode/49_group_anagram.ipynb#W0sZmlsZQ%3D%3D?line=1'>2</a>\u001b[0m i \u001b[39m=\u001b[39m \u001b[39m\"\u001b[39m\u001b[39mnitag\u001b[39m\u001b[39m\"\u001b[39m\n\u001b[1;32m----> <a href='vscode-notebook-cell:/c%3A/Users/Nirav/Desktop/coding/data%20structure%20%26%20algorithm/LeetCode/49_group_anagram.ipynb#W0sZmlsZQ%3D%3D?line=2'>3</a>\u001b[0m i\u001b[39m.\u001b[39;49msort()\n\u001b[0;32m      <a href='vscode-notebook-cell:/c%3A/Users/Nirav/Desktop/coding/data%20structure%20%26%20algorithm/LeetCode/49_group_anagram.ipynb#W0sZmlsZQ%3D%3D?line=3'>4</a>\u001b[0m k \u001b[39m=\u001b[39m \u001b[39msorted\u001b[39m(i)\n\u001b[0;32m      <a href='vscode-notebook-cell:/c%3A/Users/Nirav/Desktop/coding/data%20structure%20%26%20algorithm/LeetCode/49_group_anagram.ipynb#W0sZmlsZQ%3D%3D?line=4'>5</a>\u001b[0m \u001b[39mprint\u001b[39m(k)\n",
      "\u001b[1;31mAttributeError\u001b[0m: 'str' object has no attribute 'sort'"
     ]
    }
   ],
   "source": [
    "i = [1,2,7,3]\n",
    "i = \"nitag\"\n",
    "# i.sort()\n",
    "k = sorted(i)\n",
    "print(k)\n",
    "print(i)"
   ]
  },
  {
   "cell_type": "code",
   "execution_count": 10,
   "metadata": {},
   "outputs": [
    {
     "name": "stdout",
     "output_type": "stream",
     "text": [
      "dict_values([1, 2])\n"
     ]
    }
   ],
   "source": [
    "dictionary = {'A': 1, 'B': 2}\n",
    "\n",
    "values = dictionary.values()\n",
    "\n",
    "print(values)"
   ]
  },
  {
   "cell_type": "code",
   "execution_count": null,
   "metadata": {},
   "outputs": [],
   "source": [
    "class Solution:\n",
    "    def groupAnagrams(self, strs: List[str]) -> List[List[str]]:\n",
    "        dic = {}\n",
    "        for i in strs:\n",
    "            j = \"\".join(sorted(i))\n",
    "            if j not in dic:\n",
    "                dic[j] = [i]\n",
    "            else:\n",
    "                dic[j].append(i)\n",
    "        return dic.values()"
   ]
  }
 ],
 "metadata": {
  "kernelspec": {
   "display_name": "Python 3",
   "language": "python",
   "name": "python3"
  },
  "language_info": {
   "codemirror_mode": {
    "name": "ipython",
    "version": 3
   },
   "file_extension": ".py",
   "mimetype": "text/x-python",
   "name": "python",
   "nbconvert_exporter": "python",
   "pygments_lexer": "ipython3",
   "version": "3.11.3"
  }
 },
 "nbformat": 4,
 "nbformat_minor": 2
}
