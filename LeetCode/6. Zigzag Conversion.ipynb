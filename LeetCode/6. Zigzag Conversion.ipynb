{
 "cells": [
  {
   "cell_type": "code",
   "execution_count": null,
   "metadata": {},
   "outputs": [],
   "source": [
    "class Solution:\n",
    "    def convert(self, s: str, numRows: int) -> str:\n",
    "        dic_of_line = {}\n",
    "        j,k = 0,0\n",
    "        flag = True\n",
    "        if numRows == 1:\n",
    "            return s\n",
    "        for i in range(numRows):\n",
    "            dic_of_line[i] = \"\"\n",
    "        while j <= len(s) - 1:\n",
    "            dic_of_line[k] +=  s[j]\n",
    "            j+=1\n",
    "            if flag:\n",
    "                k += 1\n",
    "            else:\n",
    "                k-=1\n",
    "            if k == numRows - 1 or k == 0:\n",
    "                flag = not flag\n",
    "        final_string = \"\"\n",
    "        for i in range(numRows):\n",
    "           final_string += dic_of_line[i]\n",
    "        return final_string"
   ]
  },
  {
   "cell_type": "code",
   "execution_count": null,
   "metadata": {},
   "outputs": [],
   "source": [
    "class Solution:\n",
    "    def convert(self, s: str, numRows: int) -> str:\n",
    "        dic_of_line = {}\n",
    "        j,k = 1,0\n",
    "        if numRows == 1:\n",
    "            return s\n",
    "        for i in range(numRows):\n",
    "            dic_of_line[i] = \"\"\n",
    "        for i in s:\n",
    "            dic_of_line[k] +=  i\n",
    "            k += j\n",
    "            if k == numRows - 1 or k == 0:\n",
    "                j = -j\n",
    "        final_string = \"\"\n",
    "        for i in range(numRows):\n",
    "           final_string += dic_of_line[i]\n",
    "        return final_string"
   ]
  },
  {
   "cell_type": "code",
   "execution_count": null,
   "metadata": {},
   "outputs": [],
   "source": [
    "class Solution(object):\n",
    "    def convert(self, s, numRows):\n",
    "        if numRows == 1 or numRows >= len(s):\n",
    "            return s\n",
    "        \n",
    "        rows = [[] for row in range(numRows)]\n",
    "        index = 0\n",
    "        step = -1\n",
    "        for char in s:\n",
    "            rows[index].append(char)\n",
    "            if index == 0:\n",
    "                step = 1\n",
    "            elif index == numRows - 1:\n",
    "                step = -1\n",
    "            index += step\n",
    "\n",
    "        for i in range(numRows):\n",
    "            rows[i] = ''.join(rows[i])\n",
    "        return ''.join(rows)"
   ]
  },
  {
   "cell_type": "code",
   "execution_count": null,
   "metadata": {},
   "outputs": [],
   "source": [
    "class Solution:\n",
    "    def convert(self, s: str, numRows: int) -> str:\n",
    "        list_of_line = []\n",
    "        j,k = 1,0\n",
    "        if numRows == 1:\n",
    "            return s\n",
    "        for i in range(numRows):\n",
    "            list_of_line.append(\"\")\n",
    "        for i in s:\n",
    "            list_of_line[k] +=  i\n",
    "            k += j\n",
    "            if k == numRows - 1 or k == 0:\n",
    "                j = -j\n",
    "        return ''.join(list_of_line)"
   ]
  }
 ],
 "metadata": {
  "language_info": {
   "name": "python"
  }
 },
 "nbformat": 4,
 "nbformat_minor": 2
}
