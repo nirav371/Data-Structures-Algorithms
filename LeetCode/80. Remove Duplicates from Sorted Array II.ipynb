{
 "cells": [
  {
   "cell_type": "code",
   "execution_count": 116,
   "metadata": {},
   "outputs": [],
   "source": [
    "nums = [1,1,1,1,2,2,2,2,2,3,3,3,3,4]"
   ]
  },
  {
   "cell_type": "code",
   "execution_count": 117,
   "metadata": {},
   "outputs": [],
   "source": [
    "def removeDuplicates( nums: list[int]) -> int:\n",
    "\n",
    "    store_value_occurance = [nums[0],1]\n",
    "    i,j = 1,1\n",
    "    x = len(nums)\n",
    "    while i < x :\n",
    "        if nums[j] == store_value_occurance[0] and store_value_occurance[1] <= 1:\n",
    "            store_value_occurance[1] += 1\n",
    "            print(i)\n",
    "            i += 1\n",
    "            j += 1\n",
    "        elif nums[j] == store_value_occurance[0]:\n",
    "\n",
    "            print(f\"{nums[j]}r{store_value_occurance[0]}b{i}\")\n",
    "            nums.pop(j)\n",
    "            i += 1\n",
    "        else:\n",
    "            print(f\"{nums[j]}r{store_value_occurance[0]}c{i}\")\n",
    "            store_value_occurance[0],store_value_occurance[1] = nums[j],1\n",
    "            i += 1\n",
    "            j += 1\n",
    "    return nums"
   ]
  },
  {
   "cell_type": "code",
   "execution_count": 118,
   "metadata": {},
   "outputs": [
    {
     "name": "stdout",
     "output_type": "stream",
     "text": [
      "1\n",
      "1r1b2\n",
      "1r1b3\n",
      "2r1c4\n",
      "5\n",
      "2r2b6\n",
      "2r2b7\n",
      "2r2b8\n",
      "3r2c9\n",
      "10\n",
      "3r3b11\n",
      "3r3b12\n",
      "4r3c13\n",
      "[1, 1, 2, 2, 3, 3, 4]\n"
     ]
    }
   ],
   "source": [
    "print(removeDuplicates(nums))"
   ]
  },
  {
   "cell_type": "code",
   "execution_count": null,
   "metadata": {},
   "outputs": [],
   "source": []
  }
 ],
 "metadata": {
  "kernelspec": {
   "display_name": "Python 3",
   "language": "python",
   "name": "python3"
  },
  "language_info": {
   "codemirror_mode": {
    "name": "ipython",
    "version": 3
   },
   "file_extension": ".py",
   "mimetype": "text/x-python",
   "name": "python",
   "nbconvert_exporter": "python",
   "pygments_lexer": "ipython3",
   "version": "3.11.3"
  }
 },
 "nbformat": 4,
 "nbformat_minor": 2
}
