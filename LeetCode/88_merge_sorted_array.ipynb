{
 "cells": [
  {
   "cell_type": "code",
   "execution_count": 51,
   "metadata": {},
   "outputs": [],
   "source": [
    "class Solution:\n",
    "    def merge(nums1: list[int], m: int, nums2: list[int], n: int) -> None:\n",
    "        \"\"\"\n",
    "        Do not return anything, modify nums1 in-place instead.\n",
    "        \"\"\"\n",
    "        i, j = 0, 0\n",
    "        nums1[:] = nums1[:m]\n",
    "        if len(nums1) == 0:\n",
    "          nums1[:] = nums2\n",
    "          return nums1\n",
    "        if len(nums2) == 0:\n",
    "          return nums1\n",
    "          \n",
    "        while i < n:\n",
    "            if nums2[i] <= nums1[j]:\n",
    "                nums1.insert(j, nums2[i])\n",
    "                j += 1\n",
    "                m += 1\n",
    "                i += 1\n",
    "            else:\n",
    "                j += 1\n",
    "            if j == m:\n",
    "                nums1[:] = nums1 + nums2[i:]\n",
    "                break\n",
    "        return nums1"
   ]
  },
  {
   "cell_type": "code",
   "execution_count": 38,
   "metadata": {},
   "outputs": [],
   "source": [
    "# def merge( nums1: list[int], m: int, nums2: list[int], n: int) -> None:\n"
   ]
  },
  {
   "cell_type": "code",
   "execution_count": 52,
   "metadata": {},
   "outputs": [
    {
     "data": {
      "text/plain": [
       "[1, 2, 2, 3, 5, 6]"
      ]
     },
     "execution_count": 52,
     "metadata": {},
     "output_type": "execute_result"
    }
   ],
   "source": [
    "merge([1,2,3,0,0,0],3,[2,5,6],3)"
   ]
  }
 ],
 "metadata": {
  "kernelspec": {
   "display_name": "Python 3",
   "language": "python",
   "name": "python3"
  },
  "language_info": {
   "codemirror_mode": {
    "name": "ipython",
    "version": 3
   },
   "file_extension": ".py",
   "mimetype": "text/x-python",
   "name": "python",
   "nbconvert_exporter": "python",
   "pygments_lexer": "ipython3",
   "version": "3.11.3"
  },
  "orig_nbformat": 4
 },
 "nbformat": 4,
 "nbformat_minor": 2
}
