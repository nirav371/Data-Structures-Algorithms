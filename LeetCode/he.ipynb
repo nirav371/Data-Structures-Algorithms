{
 "cells": [
  {
   "cell_type": "code",
   "execution_count": 12,
   "metadata": {},
   "outputs": [],
   "source": [
    "processorTime=[33,320]\n",
    "tasks = [132,68,232,166,30,300,112,138]"
   ]
  },
  {
   "cell_type": "code",
   "execution_count": 13,
   "metadata": {},
   "outputs": [
    {
     "name": "stdout",
     "output_type": "stream",
     "text": [
      "300\n",
      "620\n"
     ]
    }
   ],
   "source": [
    "first_avilable_processor = min(processorTime)\n",
    "max_time_task = max(tasks)\n",
    "second_available_processor = max(processorTime)\n",
    "max_4th_task = sorted(tasks)[7]\n",
    "print(max_4th_task)\n",
    "print (max(first_avilable_processor+max_time_task, second_available_processor+max_4th_task))"
   ]
  },
  {
   "cell_type": "code",
   "execution_count": 18,
   "metadata": {},
   "outputs": [
    {
     "name": "stdout",
     "output_type": "stream",
     "text": [
      "33\n",
      "300\n",
      "320\n",
      "132\n",
      "452\n"
     ]
    }
   ],
   "source": [
    "tasks[:] = sorted(tasks)\n",
    "processorTime[:] = sorted(processorTime)\n",
    "length_of_tasks = len(tasks)\n",
    "list1 = []\n",
    "for i in range(len(processorTime)):\n",
    "    avilable_processor = processorTime[i]\n",
    "    print(avilable_processor)\n",
    "    max_time_task = tasks[-i*4 +length_of_tasks -1]\n",
    "    print(max_time_task)\n",
    "    list1.append(avilable_processor+max_time_task)\n",
    "print(max(list1))"
   ]
  },
  {
   "cell_type": "code",
   "execution_count": 19,
   "metadata": {},
   "outputs": [],
   "source": [
    "s1 = \"101\"\n",
    "s2 = \"010\"\n",
    "x = 3"
   ]
  },
  {
   "cell_type": "code",
   "execution_count": 20,
   "metadata": {},
   "outputs": [
    {
     "name": "stdout",
     "output_type": "stream",
     "text": [
      "-1\n",
      "4\n"
     ]
    }
   ],
   "source": [
    "n = len(s1)\n",
    "diff_indices = []\n",
    "\n",
    "for i in range(n):\n",
    "    if s1[i] != s2[i]:\n",
    "        diff_indices.append(i)\n",
    "\n",
    "num_diff = len(diff_indices)\n",
    "\n",
    "\n",
    "\n",
    "cost = (num_diff // 2) * x + (num_diff % 2)\n",
    "print(cost)"
   ]
  }
 ],
 "metadata": {
  "kernelspec": {
   "display_name": "Python 3",
   "language": "python",
   "name": "python3"
  },
  "language_info": {
   "codemirror_mode": {
    "name": "ipython",
    "version": 3
   },
   "file_extension": ".py",
   "mimetype": "text/x-python",
   "name": "python",
   "nbconvert_exporter": "python",
   "pygments_lexer": "ipython3",
   "version": "3.11.3"
  }
 },
 "nbformat": 4,
 "nbformat_minor": 2
}
