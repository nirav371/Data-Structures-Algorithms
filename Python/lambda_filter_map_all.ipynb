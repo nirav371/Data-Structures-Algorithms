{
 "cells": [
  {
   "cell_type": "code",
   "execution_count": 1,
   "metadata": {},
   "outputs": [
    {
     "name": "stdout",
     "output_type": "stream",
     "text": [
      "8\n"
     ]
    }
   ],
   "source": [
    "add = lambda a,b : a+b\n",
    "print(add(3,5))"
   ]
  },
  {
   "cell_type": "code",
   "execution_count": 3,
   "metadata": {},
   "outputs": [
    {
     "name": "stdout",
     "output_type": "stream",
     "text": [
      "[True, False, True, True, True]\n",
      "['apple', 'cherry', 'date', 'grape']\n"
     ]
    }
   ],
   "source": [
    "words = [\"apple\", \"banana\", \"cherry\", \"date\", \"grape\"]\n",
    "substring = \"e\"\n",
    "print(list(map(lambda x: substring in x, words)))\n",
    "print(list(filter(lambda x: substring in x, words)))"
   ]
  },
  {
   "cell_type": "code",
   "execution_count": 8,
   "metadata": {},
   "outputs": [
    {
     "name": "stdout",
     "output_type": "stream",
     "text": [
      "False\n"
     ]
    }
   ],
   "source": [
    "numbers = [2, 4, 7, 8, 10]\n",
    "all_even = all(map(lambda x: x % 2 != 0, numbers))\n",
    "print(all_even)"
   ]
  },
  {
   "cell_type": "markdown",
   "metadata": {},
   "source": [
    "Certainly! Here are some more examples of how you can use `lambda` functions for various purposes:\n",
    "\n",
    "1. Sorting a list of tuples based on the second element of each tuple:\n",
    "\n",
    "```python\n",
    "tuples = [(1, 5), (3, 2), (2, 8), (4, 1)]\n",
    "sorted_tuples = sorted(tuples, key=lambda x: x[1])\n",
    "print(sorted_tuples)  # Output: [(4, 1), (3, 2), (1, 5), (2, 8)]\n",
    "```\n",
    "\n",
    "In this example, we use a `lambda` function as the `key` argument to the `sorted()` function. The `lambda` function extracts the second element (index 1) from each tuple, which is then used for sorting.\n",
    "\n",
    "2. Filtering a list of strings to find those that contain a specific substring:\n",
    "\n",
    "```python\n",
    "words = [\"apple\", \"banana\", \"cherry\", \"date\", \"grape\"]\n",
    "substring = \"e\"\n",
    "filtered_words = filter(lambda x: substring in x, words)\n",
    "filtered_list = list(filtered_words)\n",
    "print(filtered_list)  # Output: ['apple', 'date', 'grape']\n",
    "```\n",
    "\n",
    "Here, the `lambda` function checks if the substring `\"e\"` is present in each word in the list `words`.\n",
    "\n",
    "3. Calculating the square of each number in a list:\n",
    "\n",
    "```python\n",
    "numbers = [1, 2, 3, 4, 5]\n",
    "squared_numbers = map(lambda x: x**2, numbers)\n",
    "squared_list = list(squared_numbers)\n",
    "print(squared_list)  # Output: [1, 4, 9, 16, 25]\n",
    "```\n",
    "\n",
    "In this example, we use the `map()` function with a `lambda` function to apply the squaring operation to each element in the list `numbers`.\n",
    "\n",
    "4. Checking if a list contains only even numbers:\n",
    "\n",
    "```python\n",
    "numbers = [2, 4, 6, 8, 10]\n",
    "all_even = all(map(lambda x: x % 2 == 0, numbers))\n",
    "print(all_even)  # Output: True\n",
    "```\n",
    "\n",
    "Here, the `lambda` function checks if each number in the list is even using the modulo operator (`%`), and `all()` checks if all elements meet this condition.\n",
    "\n",
    "5. Finding the maximum length string in a list of strings:\n",
    "\n",
    "```python\n",
    "words = [\"apple\", \"banana\", \"cherry\", \"date\", \"grape\"]\n",
    "max_length_word = max(words, key=lambda x: len(x))\n",
    "print(max_length_word)  # Output: 'banana'\n",
    "```\n",
    "\n",
    "In this example, the `lambda` function computes the length of each string, and `max()` returns the string with the maximum length.\n",
    "\n",
    "These examples illustrate how you can use `lambda` functions for various tasks, such as sorting, filtering, mapping, and more, by defining simple, inline functions on the fly."
   ]
  }
 ],
 "metadata": {
  "kernelspec": {
   "display_name": "Python 3",
   "language": "python",
   "name": "python3"
  },
  "language_info": {
   "codemirror_mode": {
    "name": "ipython",
    "version": 3
   },
   "file_extension": ".py",
   "mimetype": "text/x-python",
   "name": "python",
   "nbconvert_exporter": "python",
   "pygments_lexer": "ipython3",
   "version": "3.11.3"
  },
  "orig_nbformat": 4
 },
 "nbformat": 4,
 "nbformat_minor": 2
}
